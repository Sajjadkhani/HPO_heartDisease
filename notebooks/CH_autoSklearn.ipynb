{
 "cells": [
  {
   "cell_type": "code",
   "execution_count": 1,
   "metadata": {},
   "outputs": [
    {
     "name": "stdout",
     "output_type": "stream",
     "text": [
      "Done Processing and downloading Heart-Disease-Dataset-(Comprehensive)\n"
     ]
    },
    {
     "name": "stderr",
     "output_type": "stream",
     "text": [
      "/home/skhani/anaconda3/envs/autosklean/lib/python3.9/site-packages/sklearn/datasets/_openml.py:404: UserWarning: Multiple active versions of the dataset matching the name heart-disease-dataset-(comprehensive) exist. Versions may be fundamentally different, returning version 1.\n",
      "  warn(\"Multiple active versions of the dataset matching the name\"\n"
     ]
    }
   ],
   "source": [
    "import sklearn.datasets\n",
    "import sklearn.metrics\n",
    "import sklearn.model_selection\n",
    "\n",
    "# From OpenML: https://www.openml.org/search?type=data&status=active&id=43672\n",
    "dataset_name = \"Heart-Disease-Dataset-(Comprehensive)\"\n",
    "\n",
    "\n",
    "def get_data_and_scoring_function(dataset_name):\n",
    "    X, y = sklearn.datasets.fetch_openml(\n",
    "        dataset_name, as_frame=True, return_X_y=True)\n",
    "    X_train, X_test, y_train, y_test = sklearn.model_selection.train_test_split(\n",
    "        X,\n",
    "        y,\n",
    "        random_state=0,\n",
    "        stratify=y,\n",
    "    )\n",
    "\n",
    "    def scoring_function(estimator):\n",
    "        predictions = estimator.predict_proba(X_test)[:, 1]\n",
    "        return sklearn.metrics.roc_auc_score(y_test, predictions)\n",
    "\n",
    "    def train_scoring_function(estimator):\n",
    "        predictions = estimator.predict_proba(X_train)[:, 1]\n",
    "        return sklearn.metrics.roc_auc_score(y_train, predictions)\n",
    "\n",
    "    def get_test_data():\n",
    "        return X_test, y_test\n",
    "\n",
    "    return (\n",
    "        X,\n",
    "        y,\n",
    "        X_train,\n",
    "        y_train,\n",
    "        get_test_data,\n",
    "        scoring_function,\n",
    "        train_scoring_function,\n",
    "    )\n",
    "\n",
    "\n",
    "X, y, X_train, y_train, get_test_data, scoring_function, train_scoring_function = (\n",
    "    get_data_and_scoring_function(dataset_name)\n",
    ")\n",
    "\n",
    "X_test, y_test = get_test_data()\n",
    "\n",
    "print(f\"Done Processing and downloading {dataset_name}\")"
   ]
  },
  {
   "cell_type": "code",
   "execution_count": 2,
   "metadata": {},
   "outputs": [
    {
     "name": "stdout",
     "output_type": "stream",
     "text": [
      "[WARNING] [2024-03-04 11:59:52,863:Client-AutoML(42):heart_disease_comprehensive] Time limit for a single run is higher than total time limit. Capping the limit for a single run to the total time given to SMAC (599.733134)\n",
      "[WARNING] [2024-03-04 11:59:52,863:Client-AutoML(42):heart_disease_comprehensive] Capping the per_run_time_limit to 299.0 to have time for a least 2 models in each process.\n",
      "[WARNING] [2024-03-04 11:59:56,168:Client-EnsembleBuilder] No runs were available to build an ensemble from\n",
      "[WARNING] [2024-03-04 11:59:56,311:Client-EnsembleBuilder] No runs were available to build an ensemble from\n",
      "[WARNING] [2024-03-04 11:59:56,468:Client-EnsembleBuilder] No runs were available to build an ensemble from\n",
      "[WARNING] [2024-03-04 11:59:56,927:Client-EnsembleBuilder] No runs were available to build an ensemble from\n"
     ]
    },
    {
     "data": {
      "text/plain": [
       "AutoSklearn2Classifier(delete_tmp_folder_after_terminate=False, metric=log_loss,\n",
       "                       n_jobs=16, per_run_time_limit=960, seed=42,\n",
       "                       time_left_for_this_task=600,\n",
       "                       tmp_folder='/home/skhani/Documents/Recent/PV/AutoML/exam/Heart_Disease/models/autosklearn')"
      ]
     },
     "execution_count": 2,
     "metadata": {},
     "output_type": "execute_result"
    }
   ],
   "source": [
    "# bug from this https://stackoverflow.com/questions/76404811/attributeerror-dataframe-object-has-no-attribute-iteritems\n",
    "import pandas as pd\n",
    "from autosklearn.classification import AutoSklearnClassifier\n",
    "from autosklearn.experimental.askl2 import AutoSklearn2Classifier\n",
    "from autosklearn.metrics import log_loss\n",
    "\n",
    "# Edit the settings to try in both AutoSklearn1 and AutoSklearn2\n",
    "# Possibilities https://automl.github.io/auto-sklearn/master/api.html\n",
    "\n",
    "settings = {\n",
    "    \"time_left_for_this_task\": 5 * 60,\n",
    "    \"seed\": 42,\n",
    "    \"metric\": log_loss,\n",
    "    \"n_jobs\": 16,\n",
    "}\n",
    "\n",
    "pd.DataFrame.iteritems = pd.DataFrame.items\n",
    "\n",
    "# Create and train AutoSklearn2.0\n",
    "askl2 = AutoSklearn2Classifier(\n",
    "    **settings,\n",
    "    delete_tmp_folder_after_terminate=False,\n",
    "    tmp_folder=\"models/autosklearn\"\n",
    ")\n",
    "askl2.fit(X_train, y_train, dataset_name=\"heart_disease_comprehensive\")"
   ]
  },
  {
   "cell_type": "code",
   "execution_count": 3,
   "metadata": {},
   "outputs": [
    {
     "name": "stdout",
     "output_type": "stream",
     "text": [
      "              precision    recall  f1-score   support\n",
      "\n",
      "         0.0     0.9197    0.9000    0.9097       140\n",
      "         1.0     0.9130    0.9304    0.9216       158\n",
      "\n",
      "    accuracy                         0.9161       298\n",
      "   macro avg     0.9164    0.9152    0.9157       298\n",
      "weighted avg     0.9162    0.9161    0.9160       298\n",
      "\n"
     ]
    }
   ],
   "source": [
    "from sklearn.metrics import classification_report\n",
    "\n",
    "y_pred = askl2.predict(X_test)\n",
    "\n",
    "print(classification_report(y_test, y_pred, digits=4))"
   ]
  },
  {
   "cell_type": "code",
   "execution_count": 5,
   "metadata": {},
   "outputs": [
    {
     "name": "stdout",
     "output_type": "stream",
     "text": [
      "Auto-sklearn 2.0 | train = 1.0 | test = 0.9705696202531645\n",
      "Selected `resampling-strategy` = cv-iterative-fit\n",
      "Selected `resampling-strategy-arguments` = {'folds': 10}\n",
      "auto-sklearn results:\n",
      "  Dataset name: heart_disease_comprehensive\n",
      "  Metric: log_loss\n",
      "  Best validation score: 0.245661\n",
      "  Number of target algorithm runs: 527\n",
      "  Number of successful target algorithm runs: 405\n",
      "  Number of crashed target algorithm runs: 120\n",
      "  Number of target algorithms that exceeded the time limit: 2\n",
      "  Number of target algorithms that exceeded the memory limit: 0\n",
      "\n"
     ]
    },
    {
     "data": {
      "text/html": [
       "<div>\n",
       "<style scoped>\n",
       "    .dataframe tbody tr th:only-of-type {\n",
       "        vertical-align: middle;\n",
       "    }\n",
       "\n",
       "    .dataframe tbody tr th {\n",
       "        vertical-align: top;\n",
       "    }\n",
       "\n",
       "    .dataframe thead th {\n",
       "        text-align: right;\n",
       "    }\n",
       "</style>\n",
       "<table border=\"1\" class=\"dataframe\">\n",
       "  <thead>\n",
       "    <tr style=\"text-align: right;\">\n",
       "      <th></th>\n",
       "      <th>rank</th>\n",
       "      <th>ensemble_weight</th>\n",
       "      <th>type</th>\n",
       "      <th>cost</th>\n",
       "      <th>duration</th>\n",
       "    </tr>\n",
       "    <tr>\n",
       "      <th>model_id</th>\n",
       "      <th></th>\n",
       "      <th></th>\n",
       "      <th></th>\n",
       "      <th></th>\n",
       "      <th></th>\n",
       "    </tr>\n",
       "  </thead>\n",
       "  <tbody>\n",
       "    <tr>\n",
       "      <th>128</th>\n",
       "      <td>4</td>\n",
       "      <td>0.04</td>\n",
       "      <td>gradient_boosting</td>\n",
       "      <td>0.311609</td>\n",
       "      <td>10.231822</td>\n",
       "    </tr>\n",
       "    <tr>\n",
       "      <th>333</th>\n",
       "      <td>1</td>\n",
       "      <td>0.24</td>\n",
       "      <td>extra_trees</td>\n",
       "      <td>0.245661</td>\n",
       "      <td>15.202969</td>\n",
       "    </tr>\n",
       "    <tr>\n",
       "      <th>439</th>\n",
       "      <td>3</td>\n",
       "      <td>0.32</td>\n",
       "      <td>extra_trees</td>\n",
       "      <td>0.251838</td>\n",
       "      <td>15.641046</td>\n",
       "    </tr>\n",
       "    <tr>\n",
       "      <th>461</th>\n",
       "      <td>2</td>\n",
       "      <td>0.40</td>\n",
       "      <td>extra_trees</td>\n",
       "      <td>0.251779</td>\n",
       "      <td>13.076456</td>\n",
       "    </tr>\n",
       "  </tbody>\n",
       "</table>\n",
       "</div>"
      ],
      "text/plain": [
       "          rank  ensemble_weight               type      cost   duration\n",
       "model_id                                                               \n",
       "128          4             0.04  gradient_boosting  0.311609  10.231822\n",
       "333          1             0.24        extra_trees  0.245661  15.202969\n",
       "439          3             0.32        extra_trees  0.251838  15.641046\n",
       "461          2             0.40        extra_trees  0.251779  13.076456"
      ]
     },
     "execution_count": 5,
     "metadata": {},
     "output_type": "execute_result"
    }
   ],
   "source": [
    "print(\n",
    "    f\"Auto-sklearn 2.0 | train = {train_scoring_function(askl2)} | test = {scoring_function(askl2)}\"\n",
    ")\n",
    "print(f\"Selected `resampling-strategy` = {askl2.resampling_strategy}\")\n",
    "print(\n",
    "    f\"Selected `resampling-strategy-arguments` = {askl2.resampling_strategy_arguments}\"\n",
    ")\n",
    "\n",
    "print(askl2.sprint_statistics())\n",
    "\n",
    "askl2.leaderboard(sort_by=\"rank\", ensemble_only=True)"
   ]
  }
 ],
 "metadata": {
  "kernelspec": {
   "display_name": "ag",
   "language": "python",
   "name": "python3"
  },
  "language_info": {
   "codemirror_mode": {
    "name": "ipython",
    "version": 3
   },
   "file_extension": ".py",
   "mimetype": "text/x-python",
   "name": "python",
   "nbconvert_exporter": "python",
   "pygments_lexer": "ipython3",
   "version": "3.9.18"
  }
 },
 "nbformat": 4,
 "nbformat_minor": 2
}
